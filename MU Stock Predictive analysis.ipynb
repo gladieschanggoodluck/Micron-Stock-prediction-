{
 "cells": [
  {
   "cell_type": "markdown",
   "metadata": {},
   "source": [
    "# Energy\n",
    "Analytics in power plants can reduce unexpected equipment failures by predicting when a component might fail, thus helping reduce maintenance costs and improve power availability.\n",
    "\n",
    "Utilities can also predict when customers might get a high bill and send out customer alerts to warn customers they are running up a large bill that month. Smart meters allowed utilities to warn customers of spikes at certain times of the day, helping them to know when to cut back on power use."
   ]
  },
  {
   "cell_type": "markdown",
   "metadata": {},
   "source": [
    "# Data Product\n",
    "    This program uses artificial recurrent neural network called Long Short Term Memory (LSTM) to predict the closing price of a corporaiton (Apple Inc,) using the past 60 days stock price"
   ]
  },
  {
   "cell_type": "code",
   "execution_count": 69,
   "metadata": {},
   "outputs": [],
   "source": [
    "# Import the librarties\n",
    "import math\n",
    "import pandas_datareader as web\n",
    "import numpy as np\n",
    "import pandas as pd\n",
    "from sklearn.preprocessing import MinMaxScaler\n",
    "from keras.models import Sequential\n",
    "from keras.layers import Dense, LSTM\n",
    "import matplotlib.pyplot as plt\n",
    "plt.style.use('fivethirtyeight')"
   ]
  },
  {
   "cell_type": "code",
   "execution_count": 70,
   "metadata": {},
   "outputs": [
    {
     "data": {
      "text/html": [
       "<div>\n",
       "<style scoped>\n",
       "    .dataframe tbody tr th:only-of-type {\n",
       "        vertical-align: middle;\n",
       "    }\n",
       "\n",
       "    .dataframe tbody tr th {\n",
       "        vertical-align: top;\n",
       "    }\n",
       "\n",
       "    .dataframe thead th {\n",
       "        text-align: right;\n",
       "    }\n",
       "</style>\n",
       "<table border=\"1\" class=\"dataframe\">\n",
       "  <thead>\n",
       "    <tr style=\"text-align: right;\">\n",
       "      <th></th>\n",
       "      <th>High</th>\n",
       "      <th>Low</th>\n",
       "      <th>Open</th>\n",
       "      <th>Close</th>\n",
       "      <th>Volume</th>\n",
       "      <th>Adj Close</th>\n",
       "    </tr>\n",
       "    <tr>\n",
       "      <th>Date</th>\n",
       "      <th></th>\n",
       "      <th></th>\n",
       "      <th></th>\n",
       "      <th></th>\n",
       "      <th></th>\n",
       "      <th></th>\n",
       "    </tr>\n",
       "  </thead>\n",
       "  <tbody>\n",
       "    <tr>\n",
       "      <th>2020-06-15</th>\n",
       "      <td>86.419998</td>\n",
       "      <td>83.144997</td>\n",
       "      <td>83.312500</td>\n",
       "      <td>85.747498</td>\n",
       "      <td>34702200.0</td>\n",
       "      <td>85.445755</td>\n",
       "    </tr>\n",
       "    <tr>\n",
       "      <th>2020-06-16</th>\n",
       "      <td>88.300003</td>\n",
       "      <td>86.180000</td>\n",
       "      <td>87.864998</td>\n",
       "      <td>88.019997</td>\n",
       "      <td>41276300.0</td>\n",
       "      <td>87.710258</td>\n",
       "    </tr>\n",
       "    <tr>\n",
       "      <th>2020-06-17</th>\n",
       "      <td>88.849998</td>\n",
       "      <td>87.772499</td>\n",
       "      <td>88.787498</td>\n",
       "      <td>87.897499</td>\n",
       "      <td>114406400.0</td>\n",
       "      <td>87.588196</td>\n",
       "    </tr>\n",
       "    <tr>\n",
       "      <th>2020-06-18</th>\n",
       "      <td>88.362503</td>\n",
       "      <td>87.305000</td>\n",
       "      <td>87.852501</td>\n",
       "      <td>87.932503</td>\n",
       "      <td>96820400.0</td>\n",
       "      <td>87.623077</td>\n",
       "    </tr>\n",
       "    <tr>\n",
       "      <th>2020-06-19</th>\n",
       "      <td>89.139999</td>\n",
       "      <td>86.287498</td>\n",
       "      <td>88.660004</td>\n",
       "      <td>87.430000</td>\n",
       "      <td>264476000.0</td>\n",
       "      <td>87.122337</td>\n",
       "    </tr>\n",
       "    <tr>\n",
       "      <th>...</th>\n",
       "      <td>...</td>\n",
       "      <td>...</td>\n",
       "      <td>...</td>\n",
       "      <td>...</td>\n",
       "      <td>...</td>\n",
       "      <td>...</td>\n",
       "    </tr>\n",
       "    <tr>\n",
       "      <th>2020-12-09</th>\n",
       "      <td>125.949997</td>\n",
       "      <td>121.000000</td>\n",
       "      <td>124.529999</td>\n",
       "      <td>121.779999</td>\n",
       "      <td>115089200.0</td>\n",
       "      <td>121.779999</td>\n",
       "    </tr>\n",
       "    <tr>\n",
       "      <th>2020-12-10</th>\n",
       "      <td>123.870003</td>\n",
       "      <td>120.150002</td>\n",
       "      <td>120.500000</td>\n",
       "      <td>123.239998</td>\n",
       "      <td>81312200.0</td>\n",
       "      <td>123.239998</td>\n",
       "    </tr>\n",
       "    <tr>\n",
       "      <th>2020-12-11</th>\n",
       "      <td>122.760002</td>\n",
       "      <td>120.550003</td>\n",
       "      <td>122.430000</td>\n",
       "      <td>122.410004</td>\n",
       "      <td>86939800.0</td>\n",
       "      <td>122.410004</td>\n",
       "    </tr>\n",
       "    <tr>\n",
       "      <th>2020-12-14</th>\n",
       "      <td>123.349998</td>\n",
       "      <td>121.540001</td>\n",
       "      <td>122.599998</td>\n",
       "      <td>121.779999</td>\n",
       "      <td>79184500.0</td>\n",
       "      <td>121.779999</td>\n",
       "    </tr>\n",
       "    <tr>\n",
       "      <th>2020-12-15</th>\n",
       "      <td>127.900002</td>\n",
       "      <td>124.129997</td>\n",
       "      <td>124.339996</td>\n",
       "      <td>127.879997</td>\n",
       "      <td>157243700.0</td>\n",
       "      <td>127.879997</td>\n",
       "    </tr>\n",
       "  </tbody>\n",
       "</table>\n",
       "<p>129 rows × 6 columns</p>\n",
       "</div>"
      ],
      "text/plain": [
       "                  High         Low        Open       Close       Volume  \\\n",
       "Date                                                                      \n",
       "2020-06-15   86.419998   83.144997   83.312500   85.747498   34702200.0   \n",
       "2020-06-16   88.300003   86.180000   87.864998   88.019997   41276300.0   \n",
       "2020-06-17   88.849998   87.772499   88.787498   87.897499  114406400.0   \n",
       "2020-06-18   88.362503   87.305000   87.852501   87.932503   96820400.0   \n",
       "2020-06-19   89.139999   86.287498   88.660004   87.430000  264476000.0   \n",
       "...                ...         ...         ...         ...          ...   \n",
       "2020-12-09  125.949997  121.000000  124.529999  121.779999  115089200.0   \n",
       "2020-12-10  123.870003  120.150002  120.500000  123.239998   81312200.0   \n",
       "2020-12-11  122.760002  120.550003  122.430000  122.410004   86939800.0   \n",
       "2020-12-14  123.349998  121.540001  122.599998  121.779999   79184500.0   \n",
       "2020-12-15  127.900002  124.129997  124.339996  127.879997  157243700.0   \n",
       "\n",
       "             Adj Close  \n",
       "Date                    \n",
       "2020-06-15   85.445755  \n",
       "2020-06-16   87.710258  \n",
       "2020-06-17   87.588196  \n",
       "2020-06-18   87.623077  \n",
       "2020-06-19   87.122337  \n",
       "...                ...  \n",
       "2020-12-09  121.779999  \n",
       "2020-12-10  123.239998  \n",
       "2020-12-11  122.410004  \n",
       "2020-12-14  121.779999  \n",
       "2020-12-15  127.879997  \n",
       "\n",
       "[129 rows x 6 columns]"
      ]
     },
     "execution_count": 70,
     "metadata": {},
     "output_type": "execute_result"
    }
   ],
   "source": [
    "# Get the stock quote\n",
    "df = web.DataReader('AAPL', data_source = 'yahoo', start = '2020-06-14', end = '2020-12-15')\n",
    "# Show the data\n",
    "df"
   ]
  },
  {
   "cell_type": "code",
   "execution_count": 71,
   "metadata": {},
   "outputs": [
    {
     "data": {
      "text/html": [
       "<div>\n",
       "<style scoped>\n",
       "    .dataframe tbody tr th:only-of-type {\n",
       "        vertical-align: middle;\n",
       "    }\n",
       "\n",
       "    .dataframe tbody tr th {\n",
       "        vertical-align: top;\n",
       "    }\n",
       "\n",
       "    .dataframe thead th {\n",
       "        text-align: right;\n",
       "    }\n",
       "</style>\n",
       "<table border=\"1\" class=\"dataframe\">\n",
       "  <thead>\n",
       "    <tr style=\"text-align: right;\">\n",
       "      <th></th>\n",
       "      <th>High</th>\n",
       "      <th>Low</th>\n",
       "      <th>Open</th>\n",
       "      <th>Close</th>\n",
       "      <th>Volume</th>\n",
       "      <th>Adj Close</th>\n",
       "    </tr>\n",
       "    <tr>\n",
       "      <th>Date</th>\n",
       "      <th></th>\n",
       "      <th></th>\n",
       "      <th></th>\n",
       "      <th></th>\n",
       "      <th></th>\n",
       "      <th></th>\n",
       "    </tr>\n",
       "  </thead>\n",
       "  <tbody>\n",
       "    <tr>\n",
       "      <th>2014-12-15</th>\n",
       "      <td>34.450001</td>\n",
       "      <td>33.250000</td>\n",
       "      <td>34.349998</td>\n",
       "      <td>33.349998</td>\n",
       "      <td>27305700</td>\n",
       "      <td>33.349998</td>\n",
       "    </tr>\n",
       "    <tr>\n",
       "      <th>2014-12-16</th>\n",
       "      <td>33.919998</td>\n",
       "      <td>32.369999</td>\n",
       "      <td>32.900002</td>\n",
       "      <td>32.919998</td>\n",
       "      <td>28611600</td>\n",
       "      <td>32.919998</td>\n",
       "    </tr>\n",
       "    <tr>\n",
       "      <th>2014-12-17</th>\n",
       "      <td>33.900002</td>\n",
       "      <td>32.500000</td>\n",
       "      <td>33.080002</td>\n",
       "      <td>33.830002</td>\n",
       "      <td>19434600</td>\n",
       "      <td>33.830002</td>\n",
       "    </tr>\n",
       "    <tr>\n",
       "      <th>2014-12-18</th>\n",
       "      <td>34.790001</td>\n",
       "      <td>34.049999</td>\n",
       "      <td>34.619999</td>\n",
       "      <td>34.450001</td>\n",
       "      <td>18200600</td>\n",
       "      <td>34.450001</td>\n",
       "    </tr>\n",
       "    <tr>\n",
       "      <th>2014-12-19</th>\n",
       "      <td>34.799999</td>\n",
       "      <td>34.130001</td>\n",
       "      <td>34.590000</td>\n",
       "      <td>34.490002</td>\n",
       "      <td>18469600</td>\n",
       "      <td>34.490002</td>\n",
       "    </tr>\n",
       "    <tr>\n",
       "      <th>...</th>\n",
       "      <td>...</td>\n",
       "      <td>...</td>\n",
       "      <td>...</td>\n",
       "      <td>...</td>\n",
       "      <td>...</td>\n",
       "      <td>...</td>\n",
       "    </tr>\n",
       "    <tr>\n",
       "      <th>2020-12-09</th>\n",
       "      <td>74.610001</td>\n",
       "      <td>70.779999</td>\n",
       "      <td>73.150002</td>\n",
       "      <td>71.410004</td>\n",
       "      <td>18367300</td>\n",
       "      <td>71.410004</td>\n",
       "    </tr>\n",
       "    <tr>\n",
       "      <th>2020-12-10</th>\n",
       "      <td>71.949997</td>\n",
       "      <td>69.669998</td>\n",
       "      <td>70.139999</td>\n",
       "      <td>71.279999</td>\n",
       "      <td>15610600</td>\n",
       "      <td>71.279999</td>\n",
       "    </tr>\n",
       "    <tr>\n",
       "      <th>2020-12-11</th>\n",
       "      <td>71.320000</td>\n",
       "      <td>69.400002</td>\n",
       "      <td>70.379997</td>\n",
       "      <td>70.529999</td>\n",
       "      <td>15322000</td>\n",
       "      <td>70.529999</td>\n",
       "    </tr>\n",
       "    <tr>\n",
       "      <th>2020-12-14</th>\n",
       "      <td>72.199997</td>\n",
       "      <td>71.029999</td>\n",
       "      <td>71.400002</td>\n",
       "      <td>71.540001</td>\n",
       "      <td>13573700</td>\n",
       "      <td>71.540001</td>\n",
       "    </tr>\n",
       "    <tr>\n",
       "      <th>2020-12-15</th>\n",
       "      <td>73.370003</td>\n",
       "      <td>72.330002</td>\n",
       "      <td>72.809998</td>\n",
       "      <td>73.150002</td>\n",
       "      <td>11538300</td>\n",
       "      <td>73.150002</td>\n",
       "    </tr>\n",
       "  </tbody>\n",
       "</table>\n",
       "<p>1512 rows × 6 columns</p>\n",
       "</div>"
      ],
      "text/plain": [
       "                 High        Low       Open      Close    Volume  Adj Close\n",
       "Date                                                                       \n",
       "2014-12-15  34.450001  33.250000  34.349998  33.349998  27305700  33.349998\n",
       "2014-12-16  33.919998  32.369999  32.900002  32.919998  28611600  32.919998\n",
       "2014-12-17  33.900002  32.500000  33.080002  33.830002  19434600  33.830002\n",
       "2014-12-18  34.790001  34.049999  34.619999  34.450001  18200600  34.450001\n",
       "2014-12-19  34.799999  34.130001  34.590000  34.490002  18469600  34.490002\n",
       "...               ...        ...        ...        ...       ...        ...\n",
       "2020-12-09  74.610001  70.779999  73.150002  71.410004  18367300  71.410004\n",
       "2020-12-10  71.949997  69.669998  70.139999  71.279999  15610600  71.279999\n",
       "2020-12-11  71.320000  69.400002  70.379997  70.529999  15322000  70.529999\n",
       "2020-12-14  72.199997  71.029999  71.400002  71.540001  13573700  71.540001\n",
       "2020-12-15  73.370003  72.330002  72.809998  73.150002  11538300  73.150002\n",
       "\n",
       "[1512 rows x 6 columns]"
      ]
     },
     "execution_count": 71,
     "metadata": {},
     "output_type": "execute_result"
    }
   ],
   "source": [
    "# Get the stock quote from MU\n",
    "df1 = web.DataReader('MU', data_source = 'yahoo', start = '2014-12-14', end = '2020-12-15')\n",
    "# Show the data\n",
    "df1"
   ]
  },
  {
   "cell_type": "code",
   "execution_count": 72,
   "metadata": {},
   "outputs": [
    {
     "data": {
      "text/plain": [
       "(1512, 6)"
      ]
     },
     "execution_count": 72,
     "metadata": {},
     "output_type": "execute_result"
    }
   ],
   "source": [
    "# Get the number of rows and columns in the data set\n",
    "df1.shape"
   ]
  },
  {
   "cell_type": "code",
   "execution_count": 73,
   "metadata": {},
   "outputs": [
    {
     "data": {
      "image/png": "[encoded data removed]",
      "text/plain": [
       "<Figure size 1152x576 with 1 Axes>"
      ]
     },
     "metadata": {},
     "output_type": "display_data"
    }
   ],
   "source": [
    "# Visualize the closing price history\n",
    "plt.figure(figsize = (16, 8))\n",
    "plt.title = ('Close Price History')\n",
    "plt.plot(df1['Close'])\n",
    "plt.xlabel('Date', fontsize = 18)\n",
    "plt.xlabel('Close Price USD($)', fontsize = 18)\n",
    "plt.show()"
   ]
  },
  {
   "cell_type": "code",
   "execution_count": 74,
   "metadata": {},
   "outputs": [
    {
     "data": {
      "text/plain": [
       "1210"
      ]
     },
     "execution_count": 74,
     "metadata": {},
     "output_type": "execute_result"
    }
   ],
   "source": [
    "# Create a new dataframe with only the 'Close column'\n",
    "data = df1.filter(['Close'])\n",
    "# Convert the dataframe to a numpy array\n",
    "dataset = data.values\n",
    "# Get the number of rows to train the model on\n",
    "training_data_len = math.ceil(len(dataset)* .8)\n",
    "training_data_len"
   ]
  },
  {
   "cell_type": "code",
   "execution_count": 75,
   "metadata": {},
   "outputs": [
    {
     "data": {
      "text/plain": [
       "array([[0.37300093],\n",
       "       [0.366259  ],\n",
       "       [0.38052686],\n",
       "       ...,\n",
       "       [0.95594234],\n",
       "       [0.97177806],\n",
       "       [0.99702109]])"
      ]
     },
     "execution_count": 75,
     "metadata": {},
     "output_type": "execute_result"
    }
   ],
   "source": [
    "#Scale the data\n",
    "scaler = MinMaxScaler(feature_range=(0, 1))\n",
    "scaled_data = scaler.fit_transform(dataset)\n",
    "scaled_data"
   ]
  },
  {
   "cell_type": "code",
   "execution_count": 76,
   "metadata": {},
   "outputs": [
    {
     "name": "stdout",
     "output_type": "stream",
     "text": [
      "[array([0.37300093, 0.366259  , 0.38052686, 0.39024776, 0.39087493,\n",
      "       0.39322673, 0.39840079, 0.39746004, 0.39887114, 0.40718093,\n",
      "       0.40514272, 0.3990279 , 0.39495141, 0.37974286, 0.36547507,\n",
      "       0.35340231, 0.37801818, 0.37582314, 0.34650362, 0.33364693,\n",
      "       0.32126059, 0.30950141, 0.30464096, 0.31530262, 0.32815931,\n",
      "       0.33443086, 0.33537162, 0.33646913, 0.31498903, 0.30636565,\n",
      "       0.31592976, 0.30903106, 0.29601758, 0.30401382, 0.30526813,\n",
      "       0.31248041, 0.30338665, 0.29460648, 0.33756665, 0.33646913,\n",
      "       0.35089372, 0.34948262, 0.35700851, 0.35449983, 0.34885545,\n",
      "       0.35230479, 0.3424271 , 0.33254941, 0.32800252, 0.33019758,\n",
      "       0.33098151, 0.33991848, 0.31514582, 0.30903106, 0.30918786,\n",
      "       0.29695831, 0.29946693, 0.2830041 , 0.28723738, 0.28943244])]\n",
      "[0.30040765318155443]\n",
      "\n"
     ]
    }
   ],
   "source": [
    "# Create the training dataset\n",
    "# Create  the scaled training data set\n",
    "train_data = scaled_data[0: training_data_len, :]\n",
    "# Split the data into x_train and y_train data sets\n",
    "x_train = []\n",
    "y_train = []\n",
    "for i in range(60, len(train_data)):\n",
    "    x_train.append(train_data[i-60:i, 0])\n",
    "    y_train.append(train_data[i, 0])\n",
    "    if i <= 60:\n",
    "        print(x_train)\n",
    "        print(y_train)\n",
    "        print()"
   ]
  },
  {
   "cell_type": "code",
   "execution_count": 77,
   "metadata": {},
   "outputs": [],
   "source": [
    "# Convert the x_train and y_train to numpy arrays\n",
    "x_train, y_train = np.array(x_train), np.array(y_train)"
   ]
  },
  {
   "cell_type": "code",
   "execution_count": 78,
   "metadata": {},
   "outputs": [
    {
     "data": {
      "text/plain": [
       "(1150, 60, 1)"
      ]
     },
     "execution_count": 78,
     "metadata": {},
     "output_type": "execute_result"
    }
   ],
   "source": [
    "# Reshape the data\n",
    "x_train = np.reshape(x_train, (x_train.shape[0], x_train.shape[1], 1))\n",
    "x_train.shape"
   ]
  },
  {
   "cell_type": "code",
   "execution_count": 79,
   "metadata": {},
   "outputs": [],
   "source": [
    "# Build the LSTM model\n",
    "model = Sequential()\n",
    "model.add(LSTM(50, return_sequences = True, input_shape = (x_train.shape[1], 1)))\n",
    "model.add(LSTM(50, return_sequences = False))\n",
    "model.add(Dense(25))\n",
    "model.add(Dense(1))"
   ]
  },
  {
   "cell_type": "code",
   "execution_count": 80,
   "metadata": {},
   "outputs": [],
   "source": [
    "# Compile the model\n",
    "model.compile(optimizer = 'adam', loss = 'mean_squared_error')"
   ]
  },
  {
   "cell_type": "code",
   "execution_count": 81,
   "metadata": {},
   "outputs": [
    {
     "name": "stdout",
     "output_type": "stream",
     "text": [
      "1150/1150 [==============================] - 23s 20ms/step - loss: 0.0024\n"
     ]
    },
    {
     "data": {
      "text/plain": [
       "<tensorflow.python.keras.callbacks.History at 0x24c0c017640>"
      ]
     },
     "execution_count": 81,
     "metadata": {},
     "output_type": "execute_result"
    }
   ],
   "source": [
    "# Train the model\n",
    "model.fit(x_train, y_train, batch_size = 1, epochs = 1)"
   ]
  },
  {
   "cell_type": "code",
   "execution_count": 82,
   "metadata": {},
   "outputs": [],
   "source": [
    "# Create the testing data set\n",
    "# Create a new array containing scaled values from index 1149 to 1209\n",
    "test_data = scaled_data[training_data_len - 60:, :]\n",
    "# Create the data set x_test and y_test\n",
    "x_test = []\n",
    "y_test = dataset[training_data_len: , :]\n",
    "for i in range(60, len(test_data)):\n",
    "    x_test.append(test_data[i-60: i, 0])"
   ]
  },
  {
   "cell_type": "code",
   "execution_count": 83,
   "metadata": {},
   "outputs": [],
   "source": [
    "# Convert the data to a numpy array\n",
    "x_test = np.array(x_test)"
   ]
  },
  {
   "cell_type": "code",
   "execution_count": 84,
   "metadata": {},
   "outputs": [],
   "source": [
    "# Reshape the data\n",
    "x_test = np.reshape(x_test, (x_test.shape[0], x_test.shape[1], 1))"
   ]
  },
  {
   "cell_type": "code",
   "execution_count": 85,
   "metadata": {},
   "outputs": [],
   "source": [
    "# Get the models predicted price values\n",
    "predictions = model.predict(x_test)\n",
    "predictions = scaler.inverse_transform(predictions)"
   ]
  },
  {
   "cell_type": "code",
   "execution_count": 86,
   "metadata": {},
   "outputs": [
    {
     "data": {
      "text/plain": [
       "1.9360080112684641"
      ]
     },
     "execution_count": 86,
     "metadata": {},
     "output_type": "execute_result"
    }
   ],
   "source": [
    "# Get the root mean squared error(RMSE)\n",
    "rmse = np.sqrt(np.mean(predictions - y_test)**2)\n",
    "rmse"
   ]
  },
  {
   "cell_type": "code",
   "execution_count": 87,
   "metadata": {},
   "outputs": [
    {
     "name": "stderr",
     "output_type": "stream",
     "text": [
      "<ipython-input-87-9259bbe95a36>:4: SettingWithCopyWarning: \n",
      "A value is trying to be set on a copy of a slice from a DataFrame.\n",
      "Try using .loc[row_indexer,col_indexer] = value instead\n",
      "\n",
      "See the caveats in the documentation: https://pandas.pydata.org/pandas-docs/stable/user_guide/indexing.html#returning-a-view-versus-a-copy\n",
      "  valid['Predictions'] = predictions\n"
     ]
    }
   ],
   "source": [
    "# PLot the data\n",
    "train = data[: training_data_len]\n",
    "valid = data[training_data_len:]\n",
    "valid['Predictions'] = predictions\n",
    "# Visualize the data"
   ]
  },
  {
   "cell_type": "code",
   "execution_count": 88,
   "metadata": {
    "scrolled": true
   },
   "outputs": [
    {
     "data": {
      "image/png": "[encoded data removed]",
      "text/plain": [
       "<Figure size 1152x576 with 1 Axes>"
      ]
     },
     "metadata": {},
     "output_type": "display_data"
    }
   ],
   "source": [
    "plt.figure(figsize = (16, 8))\n",
    "plt.xlabel('Date', fontsize = 18)\n",
    "plt.ylabel('Close Price USD($)', fontsize = 18 )\n",
    "plt.plot(train['Close'])\n",
    "plt.plot(valid[['Close', 'Predictions']])\n",
    "plt.legend(['Train', 'Val', 'Predictions'], loc = 'lower right')\n",
    "plt.show()"
   ]
  },
  {
   "cell_type": "code",
   "execution_count": 89,
   "metadata": {},
   "outputs": [
    {
     "data": {
      "text/html": [
       "<div>\n",
       "<style scoped>\n",
       "    .dataframe tbody tr th:only-of-type {\n",
       "        vertical-align: middle;\n",
       "    }\n",
       "\n",
       "    .dataframe tbody tr th {\n",
       "        vertical-align: top;\n",
       "    }\n",
       "\n",
       "    .dataframe thead th {\n",
       "        text-align: right;\n",
       "    }\n",
       "</style>\n",
       "<table border=\"1\" class=\"dataframe\">\n",
       "  <thead>\n",
       "    <tr style=\"text-align: right;\">\n",
       "      <th></th>\n",
       "      <th>Close</th>\n",
       "      <th>Predictions</th>\n",
       "    </tr>\n",
       "    <tr>\n",
       "      <th>Date</th>\n",
       "      <th></th>\n",
       "      <th></th>\n",
       "    </tr>\n",
       "  </thead>\n",
       "  <tbody>\n",
       "    <tr>\n",
       "      <th>2019-10-07</th>\n",
       "      <td>44.160000</td>\n",
       "      <td>41.435284</td>\n",
       "    </tr>\n",
       "    <tr>\n",
       "      <th>2019-10-08</th>\n",
       "      <td>42.639999</td>\n",
       "      <td>41.497849</td>\n",
       "    </tr>\n",
       "    <tr>\n",
       "      <th>2019-10-09</th>\n",
       "      <td>42.880001</td>\n",
       "      <td>41.457478</td>\n",
       "    </tr>\n",
       "    <tr>\n",
       "      <th>2019-10-10</th>\n",
       "      <td>43.279999</td>\n",
       "      <td>41.425507</td>\n",
       "    </tr>\n",
       "    <tr>\n",
       "      <th>2019-10-11</th>\n",
       "      <td>45.099998</td>\n",
       "      <td>41.467125</td>\n",
       "    </tr>\n",
       "    <tr>\n",
       "      <th>...</th>\n",
       "      <td>...</td>\n",
       "      <td>...</td>\n",
       "    </tr>\n",
       "    <tr>\n",
       "      <th>2020-12-09</th>\n",
       "      <td>71.410004</td>\n",
       "      <td>69.458412</td>\n",
       "    </tr>\n",
       "    <tr>\n",
       "      <th>2020-12-10</th>\n",
       "      <td>71.279999</td>\n",
       "      <td>70.001884</td>\n",
       "    </tr>\n",
       "    <tr>\n",
       "      <th>2020-12-11</th>\n",
       "      <td>70.529999</td>\n",
       "      <td>70.077103</td>\n",
       "    </tr>\n",
       "    <tr>\n",
       "      <th>2020-12-14</th>\n",
       "      <td>71.540001</td>\n",
       "      <td>69.745659</td>\n",
       "    </tr>\n",
       "    <tr>\n",
       "      <th>2020-12-15</th>\n",
       "      <td>73.150002</td>\n",
       "      <td>69.452141</td>\n",
       "    </tr>\n",
       "  </tbody>\n",
       "</table>\n",
       "<p>302 rows × 2 columns</p>\n",
       "</div>"
      ],
      "text/plain": [
       "                Close  Predictions\n",
       "Date                              \n",
       "2019-10-07  44.160000    41.435284\n",
       "2019-10-08  42.639999    41.497849\n",
       "2019-10-09  42.880001    41.457478\n",
       "2019-10-10  43.279999    41.425507\n",
       "2019-10-11  45.099998    41.467125\n",
       "...               ...          ...\n",
       "2020-12-09  71.410004    69.458412\n",
       "2020-12-10  71.279999    70.001884\n",
       "2020-12-11  70.529999    70.077103\n",
       "2020-12-14  71.540001    69.745659\n",
       "2020-12-15  73.150002    69.452141\n",
       "\n",
       "[302 rows x 2 columns]"
      ]
     },
     "execution_count": 89,
     "metadata": {},
     "output_type": "execute_result"
    }
   ],
   "source": [
    "# Show the valid and predicted prices\n",
    "valid "
   ]
  },
  {
   "cell_type": "code",
   "execution_count": 90,
   "metadata": {},
   "outputs": [
    {
     "name": "stdout",
     "output_type": "stream",
     "text": [
      "[[69.50273]]\n"
     ]
    }
   ],
   "source": [
    "# Get the quote\n",
    "mu_quote = web.DataReader('mu', data_source = 'yahoo',  start = '2014-12-14', end = '2020-12-15')\n",
    "# Create a new dataframe\n",
    "new_df = mu_quote.filter(['Close'])\n",
    "#Get the last 60 days closing price values and convert the dataframe to an array\n",
    "last_60_days = new_df[-60:].values\n",
    "# Scale the data to be values between 0 and 1\n",
    "last_60_days_scaled = scaler.transform(last_60_days)\n",
    "# Create an empty lst\n",
    "X_test = []\n",
    "# Append the past 60 days \n",
    "X_test.append(last_60_days_scaled)\n",
    "# Convert the X_test data set to a numpy array\n",
    "X_test = np.array(X_test)\n",
    "# Reshape the data\n",
    "X_test = np.reshape(X_test, (X_test.shape[0], X_test.shape[1], 1))\n",
    "# Get the predicted scaled price\n",
    "pred_price = model.predict(X_test)\n",
    "#Undo the scaling\n",
    "pred_price = scaler.inverse_transform(pred_price)\n",
    "print(pred_price)"
   ]
  },
  {
   "cell_type": "code",
   "execution_count": 91,
   "metadata": {},
   "outputs": [
    {
     "name": "stdout",
     "output_type": "stream",
     "text": [
      "Date\n",
      "2014-12-16    32.919998\n",
      "2014-12-17    33.830002\n",
      "2014-12-18    34.450001\n",
      "2014-12-19    34.490002\n",
      "2014-12-22    34.639999\n",
      "                ...    \n",
      "2020-12-09    71.410004\n",
      "2020-12-10    71.279999\n",
      "2020-12-11    70.529999\n",
      "2020-12-14    71.540001\n",
      "2020-12-15    73.150002\n",
      "Name: Close, Length: 1511, dtype: float64\n"
     ]
    }
   ],
   "source": [
    "# Get the quote\n",
    "mu_quote2 = web.DataReader('mu', data_source = 'yahoo',  start = '2014-12-16', end = '2020-12-16')\n",
    "print(mu_quote2['Close'])"
   ]
  }
 ],
 "metadata": {
  "kernelspec": {
   "display_name": "Python 3",
   "language": "python",
   "name": "python3"
  },
  "language_info": {
   "codemirror_mode": {
    "name": "ipython",
    "version": 3
   },
   "file_extension": ".py",
   "mimetype": "text/x-python",
   "name": "python",
   "nbconvert_exporter": "python",
   "pygments_lexer": "ipython3",
   "version": "3.8.5"
  }
 },
 "nbformat": 4,
 "nbformat_minor": 4
}
